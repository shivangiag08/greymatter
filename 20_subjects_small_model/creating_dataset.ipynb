{
 "cells": [
  {
   "cell_type": "code",
   "execution_count": 1,
   "metadata": {},
   "outputs": [],
   "source": [
    "import numpy as np\n",
    "import pandas as pd"
   ]
  },
  {
   "cell_type": "code",
   "execution_count": null,
   "metadata": {},
   "outputs": [],
   "source": [
    "PTID = ['003_S_6014', '003_S_6644', '003_S_1122', '003_S_5154', '003_S_4081', '003_S_6258', '003_S_6256', '002_S_1280', '003_S_6268', '003_S_6259', '003_S_4119', '005_S_4168', '003_S_4644', '003_S_4441', '003_S_4872', '003_S_4288', '002_S_6007', '003_S_4900', '003_S_0908', '003_S_6067']\n",
    "\n",
    "ADAS_scores = pd.read_csv('../text_data/ADAS_scores.csv')\n",
    "ADAS_scores = ADAS_scores[ADAS_scores.PTID.isin(PTID)]\n",
    "\n",
    "MMSE_scores = pd.read_csv('../text_data/MMSE_scores.csv')\n",
    "MMSE_scores = MMSE_scores[MMSE_scores.PTID.isin(PTID)]"
   ]
  }
 ],
 "metadata": {
  "kernelspec": {
   "display_name": ".tf-metal",
   "language": "python",
   "name": "python3"
  },
  "language_info": {
   "codemirror_mode": {
    "name": "ipython",
    "version": 3
   },
   "file_extension": ".py",
   "mimetype": "text/x-python",
   "name": "python",
   "nbconvert_exporter": "python",
   "pygments_lexer": "ipython3",
   "version": "3.10.14"
  }
 },
 "nbformat": 4,
 "nbformat_minor": 2
}
