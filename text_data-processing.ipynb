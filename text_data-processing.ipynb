{
 "cells": [
  {
   "cell_type": "code",
   "execution_count": 1,
   "metadata": {},
   "outputs": [
    {
     "ename": "ModuleNotFoundError",
     "evalue": "No module named 'pycombat'",
     "output_type": "error",
     "traceback": [
      "\u001b[1;31m---------------------------------------------------------------------------\u001b[0m",
      "\u001b[1;31mModuleNotFoundError\u001b[0m                       Traceback (most recent call last)",
      "Cell \u001b[1;32mIn[1], line 4\u001b[0m\n\u001b[0;32m      2\u001b[0m \u001b[38;5;28;01mimport\u001b[39;00m \u001b[38;5;21;01mpandas\u001b[39;00m \u001b[38;5;28;01mas\u001b[39;00m \u001b[38;5;21;01mpd\u001b[39;00m\n\u001b[0;32m      3\u001b[0m \u001b[38;5;28;01mimport\u001b[39;00m \u001b[38;5;21;01mos\u001b[39;00m\n\u001b[1;32m----> 4\u001b[0m \u001b[38;5;28;01mfrom\u001b[39;00m \u001b[38;5;21;01mpycombat\u001b[39;00m \u001b[38;5;28;01mimport\u001b[39;00m Combat\n\u001b[0;32m      5\u001b[0m \u001b[38;5;28;01mimport\u001b[39;00m \u001b[38;5;21;01mcsv\u001b[39;00m\n\u001b[0;32m      7\u001b[0m os\u001b[38;5;241m.\u001b[39msystem(\u001b[38;5;124m'\u001b[39m\u001b[38;5;124mpip install pycombat\u001b[39m\u001b[38;5;124m'\u001b[39m)\n",
      "\u001b[1;31mModuleNotFoundError\u001b[0m: No module named 'pycombat'"
     ]
    }
   ],
   "source": [
    "import numpy as np\n",
    "import pandas as pd\n",
    "import os\n",
    "from pycombat import Combat\n",
    "import csv\n",
    "\n",
    "os.system('pip install pycombat')"
   ]
  },
  {
   "cell_type": "markdown",
   "metadata": {},
   "source": [
    "# Test Scores"
   ]
  },
  {
   "cell_type": "markdown",
   "metadata": {},
   "source": [
    "### ADAS scores\n",
    "for both ADNI1 and ADNIGO,2,3"
   ]
  },
  {
   "cell_type": "code",
   "execution_count": 69,
   "metadata": {},
   "outputs": [
    {
     "name": "stdout",
     "output_type": "stream",
     "text": [
      "Index(['PHASE', 'PTID', 'RID', 'VISCODE', 'VISCODE2', 'VISDATE', 'WORDLIST',\n",
      "       'Q1UNABLE', 'Q1TR1', 'Q1TR2',\n",
      "       ...\n",
      "       'Q13TASKC', 'Q13SCORE', 'TOTAL13', 'DATE', 'SOURCE', 'ID', 'SITEID',\n",
      "       'USERDATE', 'USERDATE2', 'update_stamp'],\n",
      "      dtype='object', length=124)\n",
      "Index(['PHASE', 'RID', 'PTID', 'VISCODE', 'VISCODE2', 'EXAMDATE', 'Q1', 'Q2',\n",
      "       'Q3', 'Q4', 'Q5', 'Q6', 'Q7', 'Q8', 'Q9', 'Q10', 'Q11', 'Q12', 'Q14',\n",
      "       'TOTAL11', 'TOTALMOD', 'ID', 'SITEID', 'USERDATE', 'USERDATE2',\n",
      "       'update_stamp'],\n",
      "      dtype='object')\n"
     ]
    }
   ],
   "source": [
    "## Processing ADNI scores\n",
    "# total scores from ADNI GO,2,3\n",
    "ADAS_scores = pd.read_csv(\"/Volumes/Extreme SSD/DL_DATASET/TestScores_CSF/ADAS_ADNIGO23_10Dec2024.csv\")\n",
    "print(ADAS_scores.columns)\n",
    "ADAS_cols = ['PHASE', 'PTID', 'RID', 'VISCODE', 'VISCODE2', 'VISDATE', \n",
    "                    'TOTAL13', 'ID', 'SITEID', 'USERDATE', 'USERDATE2', 'update_stamp']\n",
    "ADAS_scores = ADAS_scores[ADAS_cols]\n",
    "# standardize 'TOTAL13'\n",
    "ADAS_scores['TOTAL13'] = ADAS_scores['TOTAL13'].replace(' ', np.nan)\n",
    "ADAS_scores['TOTAL13'] = ADAS_scores['TOTAL13'].astype(float)\n",
    "ADAS_scores['TOTAL13'] = (ADAS_scores['TOTAL13'] - ADAS_scores['TOTAL13'].mean()) / ADAS_scores['TOTAL13'].std()\n",
    "\n",
    "# total scores from ADNI1\n",
    "ADAS_ADNI1_scores = pd.read_csv(\"/Volumes/Extreme SSD/DL_DATASET/TestScores_CSF/ADASSCORES_10Dec2024.csv\")\n",
    "print(ADAS_ADNI1_scores.columns)\n",
    "ADAS_ADNI1_cols = ['PHASE', 'RID', 'PTID', 'VISCODE', 'VISCODE2', 'EXAMDATE', \n",
    "       'TOTAL11', 'TOTALMOD', 'ID', 'SITEID', 'USERDATE', 'USERDATE2','update_stamp']\n",
    "ADAS_ADNI1_scores = ADAS_ADNI1_scores[ADAS_ADNI1_cols]\n",
    "\n",
    "# standardize 'TOTAL11' and 'TOTALMOD'\n",
    "ADAS_ADNI1_scores['TOTAL11'] = ADAS_ADNI1_scores['TOTAL11'].replace(' ', np.nan)\n",
    "ADAS_ADNI1_scores['TOTAL11'] = ADAS_ADNI1_scores['TOTAL11'].astype(float)\n",
    "ADAS_ADNI1_scores['TOTAL11'] = (ADAS_ADNI1_scores['TOTAL11'] - ADAS_ADNI1_scores['TOTAL11'].mean()) / ADAS_ADNI1_scores['TOTAL11'].std()\n",
    "ADAS_ADNI1_scores['TOTALMOD'] = ADAS_ADNI1_scores['TOTALMOD'].replace(' ', np.nan)\n",
    "ADAS_ADNI1_scores['TOTALMOD'] = ADAS_ADNI1_scores['TOTALMOD'].astype(float)\n",
    "ADAS_ADNI1_scores['TOTALMOD'] = (ADAS_ADNI1_scores['TOTALMOD'] - ADAS_ADNI1_scores['TOTALMOD'].mean()) / ADAS_ADNI1_scores['TOTALMOD'].std()"
   ]
  },
  {
   "cell_type": "code",
   "execution_count": 70,
   "metadata": {},
   "outputs": [],
   "source": [
    "# concatenate the two dataframes\n",
    "for cols in ADAS_ADNI1_cols:\n",
    "       if cols not in ADAS_scores.columns:\n",
    "              ADAS_scores[cols] = np.nan\n",
    "\n",
    "for cols in ADAS_cols:\n",
    "       if cols not in ADAS_ADNI1_scores.columns:\n",
    "              ADAS_ADNI1_scores[cols] = np.nan\n",
    "\n",
    "ADAS_scores = pd.concat([ADAS_scores, ADAS_ADNI1_scores], ignore_index=True)\n",
    "ADAS_scores.to_csv(\"./text_data/ADAS_scores.csv\", index=False)"
   ]
  },
  {
   "cell_type": "markdown",
   "metadata": {},
   "source": [
    "### MMSE Scores"
   ]
  },
  {
   "cell_type": "code",
   "execution_count": 71,
   "metadata": {},
   "outputs": [
    {
     "name": "stdout",
     "output_type": "stream",
     "text": [
      "Index(['PHASE', 'PTID', 'RID', 'VISCODE', 'VISCODE2', 'VISDATE', 'DONE',\n",
      "       'NDREASON', 'SOURCE', 'MMDATE', 'MMYEAR', 'MMMONTH', 'MMDAY',\n",
      "       'MMSEASON', 'MMHOSPIT', 'MMFLOOR', 'MMCITY', 'MMAREA', 'MMSTATE',\n",
      "       'WORDLIST', 'WORD1', 'WORD2', 'WORD3', 'MMTRIALS', 'MMD', 'MML', 'MMR',\n",
      "       'MMO', 'MMW', 'MMLTR1', 'MMLTR2', 'MMLTR3', 'MMLTR4', 'MMLTR5',\n",
      "       'MMLTR6', 'MMLTR7', 'WORLDSCORE', 'WORD1DL', 'WORD2DL', 'WORD3DL',\n",
      "       'MMWATCH', 'MMPENCIL', 'MMREPEAT', 'MMHAND', 'MMFOLD', 'MMONFLR',\n",
      "       'MMREAD', 'MMWRITE', 'MMDRAW', 'MMSCORE', 'ID', 'SITEID', 'USERDATE',\n",
      "       'USERDATE2', 'DD_CRF_VERSION_LABEL', 'LANGUAGE_CODE', 'HAS_QC_ERROR',\n",
      "       'update_stamp'],\n",
      "      dtype='object')\n"
     ]
    }
   ],
   "source": [
    "## Processing MMSE scores\n",
    "MMSE_scores = pd.read_csv(\"/Volumes/Extreme SSD/DL_DATASET/TestScores_CSF/MMSE_10Dec2024.csv\")\n",
    "print(MMSE_scores.columns)\n",
    "MMSE_cols = ['PTID', 'RID', 'VISDATE', 'MMDATE', 'MMYEAR', 'MMMONTH', 'MMDAY',\n",
    "       'MMSEASON', 'MMHOSPIT', 'MMFLOOR', 'MMCITY', 'MMAREA', 'MMSTATE', 'WORDLIST', 'WORD1', 'WORD2', 'WORD3', 'MMTRIALS', 'MMD', \n",
    "       'MML', 'MMR','MMO', 'MMW', 'MMLTR1', 'MMLTR2', 'MMLTR3', 'MMLTR4', 'MMLTR5', 'MMLTR6', 'MMLTR7', 'WORLDSCORE', 'WORD1DL', \n",
    "       'WORD2DL', 'WORD3DL','MMWATCH', 'MMPENCIL', 'MMREPEAT', 'MMHAND', 'MMFOLD', 'MMONFLR','MMREAD', 'MMWRITE', 'MMDRAW', \n",
    "       'MMSCORE', 'ID', 'SITEID', 'USERDATE', 'HAS_QC_ERROR']\n",
    "\n",
    "# standardize 'MMSCORE'\n",
    "MMSE_scores = MMSE_scores[MMSE_cols]\n",
    "MMSE_scores['MMSCORE'] = MMSE_scores['MMSCORE'].replace(' ', np.nan)\n",
    "MMSE_scores['MMSCORE'] = MMSE_scores['MMSCORE'].astype(float)\n",
    "MMSE_scores['MMSCORE'] = (MMSE_scores['MMSCORE'] - MMSE_scores['MMSCORE'].mean()) / MMSE_scores['MMSCORE'].std()\n",
    "MMSE_scores.to_csv(\"./text_data/MMSE_scores.csv\", index=False)"
   ]
  },
  {
   "cell_type": "markdown",
   "metadata": {},
   "source": [
    "# Biomarkers\n",
    "from UPENN CSF Biomarker Master, CSF Biomarker Elecsys, Apo-E Results\n",
    "- Use the biomarker ratios (p-tau/Aβ1-42, t-tau/Aβ1-42) as key feature (for CSF)"
   ]
  },
  {
   "cell_type": "markdown",
   "metadata": {},
   "source": [
    "### CSF Biomarkers"
   ]
  },
  {
   "cell_type": "code",
   "execution_count": 72,
   "metadata": {},
   "outputs": [
    {
     "name": "stdout",
     "output_type": "stream",
     "text": [
      "  RID VISCODE        BATCH     KIT    STDS     DRAWDTE     RUNDATE  ABETA  \\\n",
      "0   3      bl   UPENNBIOMK  170470  167082  2005-09-12  2007-10-26  131.0   \n",
      "1   3      bl  UPENNBIOMK2  190841  181286  2005-09-12  2008-11-12  132.0   \n",
      "2   3      bl       MEDIAN     ALL     ALL  2005-09-12  2016-03-09  131.0   \n",
      "3   3     m12  UPENNBIOMK2  190841  181286  2006-09-13  2008-11-12  137.0   \n",
      "4   3     m12       MEDIAN     ALL     ALL  2006-09-13  2016-03-09  137.0   \n",
      "\n",
      "    TAU  PTAU ABETA_RAW TAU_RAW PTAU_RAW           update_stamp  \n",
      "0  68.0  21.0       131      68       21  2016-07-06 16:15:51.0  \n",
      "1  54.9  19.8       149    55.5     12.8  2016-07-06 16:15:51.0  \n",
      "2  61.4  20.4                             2016-07-06 16:15:51.0  \n",
      "3  76.5  21.1       155    77.5     13.7  2016-07-06 16:15:51.0  \n",
      "4  76.5  21.1                             2016-07-06 16:15:51.0  \n",
      "  RID VISCODE VISCODE2    EXAMDATE STUDY     RUNDATE ABETA   AB40  TAU PTAU  \\\n",
      "0  42     v06      m60  2011-04-14  ADNI  2017-10-30  1493  15170  242   19   \n",
      "1  42     v21      m84  2013-01-24  ADNI  2017-10-30  1183  12820  227   18   \n",
      "2  61     v31     m108  2015-02-12  ADNI  2017-10-20   823  19530  328   30   \n",
      "3  61     m60      m60  2011-02-08  ADNI  2017-10-20   832  19780  296   26   \n",
      "4  61     v11      m84  2013-02-07  ADNI  2017-10-20   926  21940  339   31   \n",
      "\n",
      "    A4240 NOTE           update_stamp  \n",
      "0  0.0984       2018-04-10 10:02:07.0  \n",
      "1  0.0923       2018-04-10 10:02:07.0  \n",
      "2  0.0421       2018-04-10 10:02:07.0  \n",
      "3   0.042       2018-04-10 10:02:07.0  \n",
      "4  0.0422       2018-04-10 10:02:07.0  \n"
     ]
    }
   ],
   "source": [
    "master = pd.read_csv('/Volumes/Extreme SSD/DL_DATASET/TestScores_CSF/UPENNBIOMK_MASTER_09Dec2024.csv', quoting=csv.QUOTE_NONE, encoding='utf-8')\n",
    "elecsys = pd.read_csv('/Volumes/Extreme SSD/DL_DATASET/TestScores_CSF/UPENNBIOMKADNIDIAN2017_09Dec2024.csv', quoting=csv.QUOTE_NONE, encoding='utf-8')\n",
    "\n",
    "# remove double quotes from column names\n",
    "master.columns = master.columns.str.replace('\"', '')\n",
    "elecsys.columns = elecsys.columns.str.replace('\"', '')\n",
    "\n",
    "# remove double quotes from values\n",
    "master = master.replace('\"', '', regex=True)\n",
    "elecsys = elecsys.replace('\"', '', regex=True)\n",
    "\n",
    "# to numeric ['ABETA', 'TAU', 'PTAU']\n",
    "master['ABETA'] = pd.to_numeric(master['ABETA'], errors='coerce')\n",
    "master['TAU'] = pd.to_numeric(master['TAU'], errors='coerce')\n",
    "master['PTAU'] = pd.to_numeric(master['PTAU'], errors='coerce')\n",
    "\n",
    "print(master.head())\n",
    "print(elecsys.head())\n"
   ]
  },
  {
   "cell_type": "code",
   "execution_count": 73,
   "metadata": {},
   "outputs": [],
   "source": [
    "# Align on participant ID and visit date\n",
    "combined = pd.merge(master, elecsys, on=['RID', 'RUNDATE'], how='outer', suffixes=('_master', '_elecsys'))"
   ]
  },
  {
   "cell_type": "code",
   "execution_count": 74,
   "metadata": {},
   "outputs": [
    {
     "name": "stdout",
     "output_type": "stream",
     "text": [
      "Non-numeric values in ABETA:\n",
      "['541' '565' '719' '863' '2086' '2187' '2246' '682' '699' '587' '655'\n",
      " '515' '496' '576' '480' '549' '816' '703' '412' '362' '409' '514' '458'\n",
      " '570' '571' '634' '780' '668' '439' '449' '1271' '1187' '393' '828'\n",
      " '1114' '820' '605' '664' '534' '440' '651' '470' '690' '683' '386' '379'\n",
      " '337' '365' '344' '332' '469' '625' '450' '771' '635' '975' '830' '913'\n",
      " '834' '622' '633' '540' '1032' '1246' '500' '475' '414' '1617' '1482'\n",
      " '2491' '2362' '2654' '492' '661' '462' '490' '730' '606' '723' '1149'\n",
      " '1304' '995' '1068' '1112' '1036' '527' '528' '2045' '1224' '882' '897'\n",
      " '803' '345' '323' '511' '620' '2209' '1735' '718' '619' '698' '1018'\n",
      " '948' '910' '799' '557' '716' '752' '793' '902' '853' '784' '482' '508'\n",
      " '593' '483' '1771' '1991' '2111' '467' '380' '826' '689' '775' '774'\n",
      " '772' '899' '544' '244' '241' '428' '542' '507' '385' '454' '302' '809'\n",
      " '627' '581' '598' '2393' '2368' '1761' '2004' '2982' '927' '815' '750'\n",
      " '586' '1863' '1643' '1244' '1973' '1925' '1610' '841' '2240' '2037'\n",
      " '2164' '1947' '550' '520' '539' '1325' '813' '657' '548' '1161' '940'\n",
      " '491' '459' '526' '731' '567' '1493' '1183' '460' '704' '686' '631'\n",
      " '2053' '2307' '1061' '1015' '717' '623' '728' '889' '660' '621' '435'\n",
      " '404' '1168' '1138' '1286' '561' '638' '722' '720' '677' '1629' '1854'\n",
      " '553' '1828' '1825' '1836' '969' '1006' '1236' '1051' '648' '351' '238'\n",
      " '1385' '1316' '670' '630' '590' '701' '653' '666' '613' '931' '400' '696'\n",
      " '934' '939' '721' '766' '315' '319' '464' '786' '734' '743' '835' '929'\n",
      " '517' '966' '943' '407' '663' '611' '1372' '1400' '267' '1299' '1227'\n",
      " '1247' '574' '260' '300' '685' '1789' '1421' '938' '836' '486' '1541'\n",
      " '1110' '645' '640' '753' '650' '688' '427' '740' '628' '554' '436' '438'\n",
      " '391' '2132' '1806' '987' '756' '789' '878' '770' '710' '680' '864'\n",
      " '1654' '1345' '712' '742' '624' '602' '971' '687' '978' '824' '713'\n",
      " '1156' '768' '545' '493' '1241' '1165' '2299' '1745' '396' '432' '795'\n",
      " '610' '487' '531' '626' '452' '494' '575' '658' '662' '1071' '1425' '957'\n",
      " '1188' '1146' '875' '1000' '1115' '616' '579' '656' '700' '667' '981'\n",
      " '591' '547' '504' '823' '832' '926' '346' '322' '552' '2097' '2364' '596'\n",
      " '2317' '1943' '1871' '415' '331' '637' '908' '951' '522' '465' '519'\n",
      " '546']\n",
      "Non-numeric values in TAU:\n",
      "['290' '295' '193' '270' '257' '264' '288' '405' '318' '285' '311' '304'\n",
      " '411' '506' '481' '330' '302' '267' '282' '266' '483' '599' '617' '713'\n",
      " '780' '163' '160' '460' '482' '256' '261' '306' '308' '309' '343' '176'\n",
      " '244' '245' '246' '578' '540' '234' '249' '280' '374' '412' '401' '370'\n",
      " '342' '360' '380' '544' '537' '127' '366' '428' '415' '174' '358' '461'\n",
      " '386' '130' '135' '324' '321' '345' '339' '353' '457' '619' '496' '561'\n",
      " '602' '811' '767' '173' '188' '346' '322' '326' '341' '312' '320' '254'\n",
      " '224' '307' '276' '263' '291' '287' '376' '385' '252' '389' '396' '636'\n",
      " '442' '637' '709' '419' '454' '491' '222' '250' '166' '274' '279' '260'\n",
      " '248' '243' '456' '384' '377' '392' '426' '774' '242' '314' '331' '430'\n",
      " '329' '466' '490' '255' '278' '427' '116' '122' '556' '455' '184' '170'\n",
      " '167' '240' '236' '332' '258' '292' '289' '223' '269' '233' '433' '447'\n",
      " '152' '356' '379' '316' '293' '301' '352' '465' '495' '232' '203' '228'\n",
      " '218' '227' '230' '297' '315' '296' '305' '381' '436' '410' '378' '364'\n",
      " '420' '413' '418' '445' '196' '194' '210' '178' '171' '211' '425' '432'\n",
      " '294' '333' '388' '431' '157' '159' '325' '417' '226' '515' '608' '813'\n",
      " '946' '564' '598' '630' '477' '487' '714' '772' '444' '440' '347' '338'\n",
      " '554' '610' '141' '402' '576' '462' '414' '403' '151' '204' '669' '198'\n",
      " '168' '624' '153' '200' '214' '235' '590' '632' '303' '221' '387' '650'\n",
      " '798' '778' '880' '199' '215' '591' '584' '566' '208' '689' '604' '262'\n",
      " '118' '110' '751' '738' '557' '510' '498' '552' '397' '407' '259' '300'\n",
      " '449' '209' '247' '310' '337' '327' '580' '134' '156' '175' '161' '162'\n",
      " '492' '532' '470' '550' '146' '328' '819' '651' '268' '241' '143']\n",
      "Non-numeric values in PTAU:\n",
      "['26' '21' '27' '22' '23' '37' '32' '30' '33' '47' '60' '55' '28' '24'\n",
      " '29' '63' '65' '75' '80' '15' '14' '43' '17' '19' '18' '67' '41' '46'\n",
      " '44' '36' '61' '62' '10' '39' '42' '50' '11' '25' '31' '52' '68' '59'\n",
      " '69' '89' '78' '16' '34' '35' '38' '74' '45' '76' '12' '20' '51' '48' '8'\n",
      " '9' '13' '40' '49' '97' '99' '118' '58' '83' '71' '56' '70' '66' '73'\n",
      " '92' '79' '81' '54' '' '93' '86' '64' '57' '53' '105']\n"
     ]
    }
   ],
   "source": [
    "# Handle overlapping biomarkers and non-numeric values\n",
    "for biomarker in ['ABETA', 'TAU', 'PTAU']:\n",
    "    combined[biomarker] = combined[f\"{biomarker}_elecsys\"].combine_first(combined[f\"{biomarker}_master\"])\n",
    "    print(f\"Non-numeric values in {biomarker}:\")\n",
    "    print(combined[~combined[biomarker].apply(lambda x: isinstance(x, (int, float)) or pd.isna(x))][biomarker].unique())\n",
    "    combined[biomarker] = combined[biomarker].replace(r'[^\\d\\.\\-]', '', regex=True)\n",
    "    combined[biomarker] = pd.to_numeric(combined[biomarker], errors='coerce')\n",
    "\n",
    "# Fill missing values\n",
    "combined[['ABETA', 'TAU', 'PTAU']] = combined[['ABETA', 'TAU', 'PTAU']].fillna(combined[['ABETA', 'TAU', 'PTAU']].mean())\n",
    "\n",
    "combined['Platform'] = np.where(combined.filter(like='_master').notna().any(axis=1), 'Master', 'Elecsys')\n",
    "combined['Platform'] = combined['Platform'].astype(str)\n",
    "\n",
    "combat = Combat()\n",
    "biomarkers = combined[['ABETA', 'TAU', 'PTAU']].values\n",
    "batch_info = combined['Platform'].values\n",
    "\n",
    "# Harmonize biomarkers\n",
    "harmonized_data = combat.fit_transform(biomarkers, batch_info)\n",
    "combined[['ABETA', 'TAU', 'PTAU']] = harmonized_data\n",
    "\n",
    "# getting derived ratios\n",
    "combined['TAU/ABETA'] = combined['TAU'] / combined['ABETA']\n",
    "combined['PTAU/ABETA'] = combined['PTAU'] / combined['ABETA']\n",
    "combined['PTAU/TAU'] = combined['PTAU'] / combined['TAU']"
   ]
  },
  {
   "cell_type": "code",
   "execution_count": 78,
   "metadata": {},
   "outputs": [],
   "source": [
    "CSF_biomarkers = combined[['RID', 'RUNDATE', 'ABETA', 'TAU', 'PTAU', 'TAU/ABETA', 'PTAU/ABETA', 'PTAU/TAU']]\n",
    "CSF_biomarkers.to_csv(\"./text_data/CSF_biomarkers.csv\", index=False)"
   ]
  },
  {
   "cell_type": "markdown",
   "metadata": {},
   "source": [
    "### Apo-E Results\n",
    "Genetic testing data that determine the individual's genotype at the APOE (Apolipoprotein E) gene, strongly associated with Alzheimer's disease risk and progression.\n",
    "(categorical data)"
   ]
  },
  {
   "cell_type": "code",
   "execution_count": 2,
   "metadata": {},
   "outputs": [],
   "source": [
    "APOE = pd.read_csv(\"F:\\DL_DATASET\\TestScores_CSF\\APOERES_09Dec2024.csv\")"
   ]
  },
  {
   "cell_type": "code",
   "execution_count": 4,
   "metadata": {},
   "outputs": [],
   "source": [
    "APOE_cols = ['PTID', 'RID', 'VISCODE', 'GENOTYPE', 'APUSABLE', 'ID', 'APTESTDT']\n",
    "APOE = APOE[APOE_cols]\n",
    "APOE.to_csv(\"./text_data/APOE.csv\", index=False)"
   ]
  }
 ],
 "metadata": {
  "kernelspec": {
   "display_name": "dl_project",
   "language": "python",
   "name": "python3"
  },
  "language_info": {
   "codemirror_mode": {
    "name": "ipython",
    "version": 3
   },
   "file_extension": ".py",
   "mimetype": "text/x-python",
   "name": "python",
   "nbconvert_exporter": "python",
   "pygments_lexer": "ipython3",
   "version": "3.11.10"
  }
 },
 "nbformat": 4,
 "nbformat_minor": 2
}
