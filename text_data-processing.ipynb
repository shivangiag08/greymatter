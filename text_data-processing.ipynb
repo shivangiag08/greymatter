{
 "cells": [
  {
   "cell_type": "code",
   "execution_count": 13,
   "metadata": {},
   "outputs": [],
   "source": [
    "import numpy as np\n",
    "import pandas as pd\n",
    "import os\n",
    "from pycombat import Combat\n",
    "import csv\n",
    "\n",
    "#os.system('pip install pycombat')"
   ]
  },
  {
   "cell_type": "markdown",
   "metadata": {},
   "source": [
    "# Test Scores"
   ]
  },
  {
   "cell_type": "code",
   "execution_count": 12,
   "metadata": {},
   "outputs": [
    {
     "name": "stdout",
     "output_type": "stream",
     "text": [
      "Index(['PHASE', 'PTID', 'RID', 'VISCODE', 'VISCODE2', 'VISDATE', 'WORDLIST',\n",
      "       'Q1UNABLE', 'Q1TR1', 'Q1TR2',\n",
      "       ...\n",
      "       'Q13TASKC', 'Q13SCORE', 'TOTAL13', 'DATE', 'SOURCE', 'ID', 'SITEID',\n",
      "       'USERDATE', 'USERDATE2', 'update_stamp'],\n",
      "      dtype='object', length=124)\n",
      "Index(['PHASE', 'RID', 'PTID', 'VISCODE', 'VISCODE2', 'EXAMDATE', 'Q1', 'Q2',\n",
      "       'Q3', 'Q4', 'Q5', 'Q6', 'Q7', 'Q8', 'Q9', 'Q10', 'Q11', 'Q12', 'Q14',\n",
      "       'TOTAL11', 'TOTALMOD', 'ID', 'SITEID', 'USERDATE', 'USERDATE2',\n",
      "       'update_stamp'],\n",
      "      dtype='object')\n"
     ]
    }
   ],
   "source": [
    "## Processing ADNI scores\n",
    "# total scores from ADNI GO,2,3\n",
    "ADAS_scores = pd.read_csv(\"/Volumes/Extreme SSD/DL_DATASET/TestScores_CSF/ADAS_ADNIGO23_10Dec2024.csv\")\n",
    "print(ADAS_scores.columns)\n",
    "ADAS_cols = ['PHASE', 'PTID', 'RID', 'VISCODE', 'VISCODE2', 'VISDATE', \n",
    "                    'TOTAL13', 'ID', 'SITEID', 'USERDATE', 'USERDATE2', 'update_stamp']\n",
    "ADAS_scores = ADAS_scores[ADAS_cols]\n",
    "# standardize 'TOTAL13'\n",
    "ADAS_scores['TOTAL13'] = ADAS_scores['TOTAL13'].replace(' ', np.nan)\n",
    "ADAS_scores['TOTAL13'] = ADAS_scores['TOTAL13'].astype(float)\n",
    "ADAS_scores['TOTAL13'] = (ADAS_scores['TOTAL13'] - ADAS_scores['TOTAL13'].mean()) / ADAS_scores['TOTAL13'].std()\n",
    "\n",
    "# total scores from ADNI1\n",
    "ADAS_ADNI1_scores = pd.read_csv(\"/Volumes/Extreme SSD/DL_DATASET/TestScores_CSF/ADASSCORES_10Dec2024.csv\")\n",
    "print(ADAS_ADNI1_scores.columns)\n",
    "ADAS_ADNI1_cols = ['PHASE', 'RID', 'PTID', 'VISCODE', 'VISCODE2', 'EXAMDATE', \n",
    "       'TOTAL11', 'TOTALMOD', 'ID', 'SITEID', 'USERDATE', 'USERDATE2','update_stamp']\n",
    "ADAS_ADNI1_scores = ADAS_ADNI1_scores[ADAS_ADNI1_cols]\n",
    "\n",
    "# standardize 'TOTAL11' and 'TOTALMOD'\n",
    "ADAS_ADNI1_scores['TOTAL11'] = ADAS_ADNI1_scores['TOTAL11'].replace(' ', np.nan)\n",
    "ADAS_ADNI1_scores['TOTAL11'] = ADAS_ADNI1_scores['TOTAL11'].astype(float)\n",
    "ADAS_ADNI1_scores['TOTAL11'] = (ADAS_ADNI1_scores['TOTAL11'] - ADAS_ADNI1_scores['TOTAL11'].mean()) / ADAS_ADNI1_scores['TOTAL11'].std()\n",
    "ADAS_ADNI1_scores['TOTALMOD'] = ADAS_ADNI1_scores['TOTALMOD'].replace(' ', np.nan)\n",
    "ADAS_ADNI1_scores['TOTALMOD'] = ADAS_ADNI1_scores['TOTALMOD'].astype(float)\n",
    "ADAS_ADNI1_scores['TOTALMOD'] = (ADAS_ADNI1_scores['TOTALMOD'] - ADAS_ADNI1_scores['TOTALMOD'].mean()) / ADAS_ADNI1_scores['TOTALMOD'].std()"
   ]
  },
  {
   "cell_type": "code",
   "execution_count": 14,
   "metadata": {},
   "outputs": [],
   "source": [
    "# concatenate the two dataframes\n",
    "for cols in ADAS_ADNI1_cols:\n",
    "       if cols not in ADAS_scores.columns:\n",
    "              ADAS_scores[cols] = np.nan\n",
    "\n",
    "for cols in ADAS_cols:\n",
    "       if cols not in ADAS_ADNI1_scores.columns:\n",
    "              ADAS_ADNI1_scores[cols] = np.nan\n",
    "\n",
    "ADAS_scores = pd.concat([ADAS_scores, ADAS_ADNI1_scores], ignore_index=True)\n",
    "ADAS_scores.to_csv(\"./text_data/ADAS_scores.csv\", index=False)"
   ]
  },
  {
   "cell_type": "code",
   "execution_count": 17,
   "metadata": {},
   "outputs": [
    {
     "name": "stdout",
     "output_type": "stream",
     "text": [
      "Index(['PHASE', 'PTID', 'RID', 'VISCODE', 'VISCODE2', 'VISDATE', 'DONE',\n",
      "       'NDREASON', 'SOURCE', 'MMDATE', 'MMYEAR', 'MMMONTH', 'MMDAY',\n",
      "       'MMSEASON', 'MMHOSPIT', 'MMFLOOR', 'MMCITY', 'MMAREA', 'MMSTATE',\n",
      "       'WORDLIST', 'WORD1', 'WORD2', 'WORD3', 'MMTRIALS', 'MMD', 'MML', 'MMR',\n",
      "       'MMO', 'MMW', 'MMLTR1', 'MMLTR2', 'MMLTR3', 'MMLTR4', 'MMLTR5',\n",
      "       'MMLTR6', 'MMLTR7', 'WORLDSCORE', 'WORD1DL', 'WORD2DL', 'WORD3DL',\n",
      "       'MMWATCH', 'MMPENCIL', 'MMREPEAT', 'MMHAND', 'MMFOLD', 'MMONFLR',\n",
      "       'MMREAD', 'MMWRITE', 'MMDRAW', 'MMSCORE', 'ID', 'SITEID', 'USERDATE',\n",
      "       'USERDATE2', 'DD_CRF_VERSION_LABEL', 'LANGUAGE_CODE', 'HAS_QC_ERROR',\n",
      "       'update_stamp'],\n",
      "      dtype='object')\n"
     ]
    }
   ],
   "source": [
    "## Processing MMSE scores\n",
    "MMSE_scores = pd.read_csv(\"/Volumes/Extreme SSD/DL_DATASET/TestScores_CSF/MMSE_10Dec2024.csv\")\n",
    "print(MMSE_scores.columns)\n",
    "MMSE_cols = ['PHASE', 'PTID', 'RID', 'VISCODE', 'VISCODE2', 'VISDATE', 'MMDATE', 'MMYEAR', 'MMMONTH', 'MMDAY',\n",
    "       'MMSEASON', 'MMHOSPIT', 'MMFLOOR', 'MMCITY', 'MMAREA', 'MMSTATE', 'WORDLIST', 'WORD1', 'WORD2', 'WORD3', 'MMTRIALS', 'MMD', \n",
    "       'MML', 'MMR','MMO', 'MMW', 'MMLTR1', 'MMLTR2', 'MMLTR3', 'MMLTR4', 'MMLTR5', 'MMLTR6', 'MMLTR7', 'WORLDSCORE', 'WORD1DL', \n",
    "       'WORD2DL', 'WORD3DL','MMWATCH', 'MMPENCIL', 'MMREPEAT', 'MMHAND', 'MMFOLD', 'MMONFLR','MMREAD', 'MMWRITE', 'MMDRAW', \n",
    "       'MMSCORE', 'ID', 'SITEID', 'USERDATE', 'USERDATE2', 'HAS_QC_ERROR','update_stamp']\n",
    "\n",
    "# standardize 'MMSCORE'\n",
    "MMSE_scores = MMSE_scores[MMSE_cols]\n",
    "MMSE_scores['MMSCORE'] = MMSE_scores['MMSCORE'].replace(' ', np.nan)\n",
    "MMSE_scores['MMSCORE'] = MMSE_scores['MMSCORE'].astype(float)\n",
    "MMSE_scores['MMSCORE'] = (MMSE_scores['MMSCORE'] - MMSE_scores['MMSCORE'].mean()) / MMSE_scores['MMSCORE'].std()\n",
    "MMSE_scores.to_csv(\"./text_data/MMSE_scores.csv\", index=False)"
   ]
  },
  {
   "cell_type": "markdown",
   "metadata": {},
   "source": [
    "# Biomarkers\n",
    "from UPENN CSF Biomarker Master, CSF Biomarker Elecsys, Apo-E Results\n",
    "- Use the biomarker ratios (p-tau/Aβ1-42, t-tau/Aβ1-42) as key feature (for CSF)"
   ]
  },
  {
   "cell_type": "code",
   "execution_count": 31,
   "metadata": {},
   "outputs": [],
   "source": [
    "master = pd.read_csv('/Volumes/Extreme SSD/DL_DATASET/TestScores_CSF/UPENNBIOMK_MASTER_09Dec2024.csv', quoting=csv.QUOTE_NONE, encoding='utf-8')\n",
    "elecsys = pd.read_csv('/Volumes/Extreme SSD/DL_DATASET/TestScores_CSF/UPENNBIOMKADNIDIAN2017_09Dec2024.csv', quoting=csv.QUOTE_NONE, encoding='utf-8')\n",
    "\n",
    "# remove double quotes from column names\n",
    "master.columns = master.columns.str.replace('\"', '')\n",
    "elecsys.columns = elecsys.columns.str.replace('\"', '')\n",
    "\n",
    "# Align on participant ID and visit date\n",
    "combined = pd.merge(master, elecsys, on=['RID', 'RUNDATE'], how='outer', suffixes=('_master', '_elecsys'))\n",
    "\n",
    "# Handle overlapping biomarkers\n",
    "for biomarker in ['ABETA', 'TAU', 'PTAU']:\n",
    "    combined[biomarker] = combined[f\"{biomarker}_elecsys\"].combine_first(combined[f\"{biomarker}_master\"])\n",
    "    combined[biomarker] = pd.to_numeric(combined[biomarker], errors='coerce')\n",
    "\n",
    "combined['Platform'] = np.where(\n",
    "    combined.filter(like='_master').notna().any(axis=1), 'Master', 'Elecsys'\n",
    ")\n",
    "\n",
    "# Fill missing values\n",
    "combined[['ABETA', 'TAU', 'PTAU']] = combined[['ABETA', 'TAU', 'PTAU']].fillna(combined[['ABETA', 'TAU', 'PTAU']].mean())\n",
    "\n",
    "# Ensure Platform is a string\n",
    "combined['Platform'] = combined['Platform'].astype(str)\n",
    "\n",
    "combat = Combat()\n",
    "biomarkers = combined[['ABETA', 'TAU', 'PTAU']].values\n",
    "batch_info = combined['Platform'].values\n",
    "\n",
    "# Harmonize biomarkers\n",
    "combat = Combat()\n",
    "harmonized_data = combat.fit_transform(biomarkers, batch_info)\n",
    "combined[['ABETA', 'TAU', 'PTAU']] = harmonized_data\n",
    "\n",
    "# getting derived ratios\n",
    "combined['TAU/ABETA'] = combined['TAU'] / combined['ABETA']\n",
    "combined['PTAU/ABETA'] = combined['PTAU'] / combined['ABETA']\n",
    "combined['PTAU/TAU'] = combined['PTAU'] / combined['TAU']"
   ]
  },
  {
   "cell_type": "code",
   "execution_count": 32,
   "metadata": {},
   "outputs": [],
   "source": [
    "CSF_biomarkers = combined[['RID', 'RUNDATE', 'ABETA', 'TAU', 'PTAU', 'TAU/ABETA', 'PTAU/ABETA', 'PTAU/TAU']]\n",
    "CSF_biomarkers.to_csv(\"./text_data/CSF_biomarkers.csv\", index=False)"
   ]
  }
 ],
 "metadata": {
  "kernelspec": {
   "display_name": ".tf-metal",
   "language": "python",
   "name": "python3"
  },
  "language_info": {
   "codemirror_mode": {
    "name": "ipython",
    "version": 3
   },
   "file_extension": ".py",
   "mimetype": "text/x-python",
   "name": "python",
   "nbconvert_exporter": "python",
   "pygments_lexer": "ipython3",
   "version": "3.10.14"
  }
 },
 "nbformat": 4,
 "nbformat_minor": 2
}
