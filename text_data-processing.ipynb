{
 "cells": [
  {
   "cell_type": "code",
   "execution_count": 8,
   "metadata": {},
   "outputs": [],
   "source": [
    "import numpy as np\n",
    "import pandas as pd\n",
    "import os\n",
    "from pycombat import Combat\n",
    "\n",
    "#os.system('pip install pycombat')"
   ]
  },
  {
   "cell_type": "markdown",
   "metadata": {},
   "source": [
    "# Test Scores"
   ]
  },
  {
   "cell_type": "code",
   "execution_count": 12,
   "metadata": {},
   "outputs": [
    {
     "name": "stdout",
     "output_type": "stream",
     "text": [
      "Index(['PHASE', 'PTID', 'RID', 'VISCODE', 'VISCODE2', 'VISDATE', 'WORDLIST',\n",
      "       'Q1UNABLE', 'Q1TR1', 'Q1TR2',\n",
      "       ...\n",
      "       'Q13TASKC', 'Q13SCORE', 'TOTAL13', 'DATE', 'SOURCE', 'ID', 'SITEID',\n",
      "       'USERDATE', 'USERDATE2', 'update_stamp'],\n",
      "      dtype='object', length=124)\n",
      "Index(['PHASE', 'RID', 'PTID', 'VISCODE', 'VISCODE2', 'EXAMDATE', 'Q1', 'Q2',\n",
      "       'Q3', 'Q4', 'Q5', 'Q6', 'Q7', 'Q8', 'Q9', 'Q10', 'Q11', 'Q12', 'Q14',\n",
      "       'TOTAL11', 'TOTALMOD', 'ID', 'SITEID', 'USERDATE', 'USERDATE2',\n",
      "       'update_stamp'],\n",
      "      dtype='object')\n"
     ]
    }
   ],
   "source": [
    "## Processing ADNI scores\n",
    "# total scores from ADNI GO,2,3\n",
    "ADAS_scores = pd.read_csv(\"/Volumes/Extreme SSD/DL_DATASET/TestScores_CSF/ADAS_ADNIGO23_10Dec2024.csv\")\n",
    "print(ADAS_scores.columns)\n",
    "ADAS_cols = ['PHASE', 'PTID', 'RID', 'VISCODE', 'VISCODE2', 'VISDATE', \n",
    "                    'TOTAL13', 'ID', 'SITEID', 'USERDATE', 'USERDATE2', 'update_stamp']\n",
    "ADAS_scores = ADAS_scores[ADAS_cols]\n",
    "# standardize 'TOTAL13'\n",
    "ADAS_scores['TOTAL13'] = ADAS_scores['TOTAL13'].replace(' ', np.nan)\n",
    "ADAS_scores['TOTAL13'] = ADAS_scores['TOTAL13'].astype(float)\n",
    "ADAS_scores['TOTAL13'] = (ADAS_scores['TOTAL13'] - ADAS_scores['TOTAL13'].mean()) / ADAS_scores['TOTAL13'].std()\n",
    "\n",
    "# total scores from ADNI1\n",
    "ADAS_ADNI1_scores = pd.read_csv(\"/Volumes/Extreme SSD/DL_DATASET/TestScores_CSF/ADASSCORES_10Dec2024.csv\")\n",
    "print(ADAS_ADNI1_scores.columns)\n",
    "ADAS_ADNI1_cols = ['PHASE', 'RID', 'PTID', 'VISCODE', 'VISCODE2', 'EXAMDATE', \n",
    "       'TOTAL11', 'TOTALMOD', 'ID', 'SITEID', 'USERDATE', 'USERDATE2','update_stamp']\n",
    "ADAS_ADNI1_scores = ADAS_ADNI1_scores[ADAS_ADNI1_cols]\n",
    "\n",
    "# standardize 'TOTAL11' and 'TOTALMOD'\n",
    "ADAS_ADNI1_scores['TOTAL11'] = ADAS_ADNI1_scores['TOTAL11'].replace(' ', np.nan)\n",
    "ADAS_ADNI1_scores['TOTAL11'] = ADAS_ADNI1_scores['TOTAL11'].astype(float)\n",
    "ADAS_ADNI1_scores['TOTAL11'] = (ADAS_ADNI1_scores['TOTAL11'] - ADAS_ADNI1_scores['TOTAL11'].mean()) / ADAS_ADNI1_scores['TOTAL11'].std()\n",
    "ADAS_ADNI1_scores['TOTALMOD'] = ADAS_ADNI1_scores['TOTALMOD'].replace(' ', np.nan)\n",
    "ADAS_ADNI1_scores['TOTALMOD'] = ADAS_ADNI1_scores['TOTALMOD'].astype(float)\n",
    "ADAS_ADNI1_scores['TOTALMOD'] = (ADAS_ADNI1_scores['TOTALMOD'] - ADAS_ADNI1_scores['TOTALMOD'].mean()) / ADAS_ADNI1_scores['TOTALMOD'].std()"
   ]
  },
  {
   "cell_type": "code",
   "execution_count": 14,
   "metadata": {},
   "outputs": [],
   "source": [
    "# concatenate the two dataframes\n",
    "for cols in ADAS_ADNI1_cols:\n",
    "       if cols not in ADAS_scores.columns:\n",
    "              ADAS_scores[cols] = np.nan\n",
    "\n",
    "for cols in ADAS_cols:\n",
    "       if cols not in ADAS_ADNI1_scores.columns:\n",
    "              ADAS_ADNI1_scores[cols] = np.nan\n",
    "\n",
    "ADAS_scores = pd.concat([ADAS_scores, ADAS_ADNI1_scores], ignore_index=True)\n",
    "ADAS_scores.to_csv(\"./text_data/ADAS_scores.csv\", index=False)"
   ]
  },
  {
   "cell_type": "code",
   "execution_count": 17,
   "metadata": {},
   "outputs": [
    {
     "name": "stdout",
     "output_type": "stream",
     "text": [
      "Index(['PHASE', 'PTID', 'RID', 'VISCODE', 'VISCODE2', 'VISDATE', 'DONE',\n",
      "       'NDREASON', 'SOURCE', 'MMDATE', 'MMYEAR', 'MMMONTH', 'MMDAY',\n",
      "       'MMSEASON', 'MMHOSPIT', 'MMFLOOR', 'MMCITY', 'MMAREA', 'MMSTATE',\n",
      "       'WORDLIST', 'WORD1', 'WORD2', 'WORD3', 'MMTRIALS', 'MMD', 'MML', 'MMR',\n",
      "       'MMO', 'MMW', 'MMLTR1', 'MMLTR2', 'MMLTR3', 'MMLTR4', 'MMLTR5',\n",
      "       'MMLTR6', 'MMLTR7', 'WORLDSCORE', 'WORD1DL', 'WORD2DL', 'WORD3DL',\n",
      "       'MMWATCH', 'MMPENCIL', 'MMREPEAT', 'MMHAND', 'MMFOLD', 'MMONFLR',\n",
      "       'MMREAD', 'MMWRITE', 'MMDRAW', 'MMSCORE', 'ID', 'SITEID', 'USERDATE',\n",
      "       'USERDATE2', 'DD_CRF_VERSION_LABEL', 'LANGUAGE_CODE', 'HAS_QC_ERROR',\n",
      "       'update_stamp'],\n",
      "      dtype='object')\n"
     ]
    }
   ],
   "source": [
    "## Processing MMSE scores\n",
    "MMSE_scores = pd.read_csv(\"/Volumes/Extreme SSD/DL_DATASET/TestScores_CSF/MMSE_10Dec2024.csv\")\n",
    "print(MMSE_scores.columns)\n",
    "MMSE_cols = ['PHASE', 'PTID', 'RID', 'VISCODE', 'VISCODE2', 'VISDATE', 'MMDATE', 'MMYEAR', 'MMMONTH', 'MMDAY',\n",
    "       'MMSEASON', 'MMHOSPIT', 'MMFLOOR', 'MMCITY', 'MMAREA', 'MMSTATE', 'WORDLIST', 'WORD1', 'WORD2', 'WORD3', 'MMTRIALS', 'MMD', \n",
    "       'MML', 'MMR','MMO', 'MMW', 'MMLTR1', 'MMLTR2', 'MMLTR3', 'MMLTR4', 'MMLTR5', 'MMLTR6', 'MMLTR7', 'WORLDSCORE', 'WORD1DL', \n",
    "       'WORD2DL', 'WORD3DL','MMWATCH', 'MMPENCIL', 'MMREPEAT', 'MMHAND', 'MMFOLD', 'MMONFLR','MMREAD', 'MMWRITE', 'MMDRAW', \n",
    "       'MMSCORE', 'ID', 'SITEID', 'USERDATE', 'USERDATE2', 'HAS_QC_ERROR','update_stamp']\n",
    "\n",
    "# standardize 'MMSCORE'\n",
    "MMSE_scores = MMSE_scores[MMSE_cols]\n",
    "MMSE_scores['MMSCORE'] = MMSE_scores['MMSCORE'].replace(' ', np.nan)\n",
    "MMSE_scores['MMSCORE'] = MMSE_scores['MMSCORE'].astype(float)\n",
    "MMSE_scores['MMSCORE'] = (MMSE_scores['MMSCORE'] - MMSE_scores['MMSCORE'].mean()) / MMSE_scores['MMSCORE'].std()\n",
    "MMSE_scores.to_csv(\"./text_data/MMSE_scores.csv\", index=False)"
   ]
  },
  {
   "cell_type": "markdown",
   "metadata": {},
   "source": [
    "# Biomarkers\n",
    "from UPENN CSF Biomarker Master, CSF Biomarker Elecsys, Apo-E Results\n",
    "- Use the biomarker ratios (p-tau/Aβ1-42, t-tau/Aβ1-42) as key feature (for CSF)"
   ]
  },
  {
   "cell_type": "code",
   "execution_count": null,
   "metadata": {},
   "outputs": [
    {
     "ename": "ParserError",
     "evalue": "Error tokenizing data. C error: EOF inside string starting at row 5876",
     "output_type": "error",
     "traceback": [
      "\u001b[0;31m---------------------------------------------------------------------------\u001b[0m",
      "\u001b[0;31mParserError\u001b[0m                               Traceback (most recent call last)",
      "Cell \u001b[0;32mIn[10], line 1\u001b[0m\n\u001b[0;32m----> 1\u001b[0m master \u001b[38;5;241m=\u001b[39m \u001b[43mpd\u001b[49m\u001b[38;5;241;43m.\u001b[39;49m\u001b[43mread_csv\u001b[49m\u001b[43m(\u001b[49m\u001b[38;5;124;43m'\u001b[39;49m\u001b[38;5;124;43m/Volumes/Extreme SSD/DL_DATASET/TestScores_CSF/UPENNBIOMK_MASTER_09Dec2024.csv\u001b[39;49m\u001b[38;5;124;43m'\u001b[39;49m\u001b[43m)\u001b[49m\n\u001b[1;32m      2\u001b[0m elecsys \u001b[38;5;241m=\u001b[39m pd\u001b[38;5;241m.\u001b[39mread_csv(\u001b[38;5;124m'\u001b[39m\u001b[38;5;124m/Volumes/Extreme SSD/DL_DATASET/TestScores_CSF/UPENNBIOMKADNIDIAN2017_09Dec2024.csv\u001b[39m\u001b[38;5;124m'\u001b[39m)\n\u001b[1;32m      4\u001b[0m \u001b[38;5;66;03m# Align on participant ID and visit date\u001b[39;00m\n",
      "File \u001b[0;32m~/.pyenv/versions/.tf-metal/lib/python3.10/site-packages/pandas/io/parsers/readers.py:1026\u001b[0m, in \u001b[0;36mread_csv\u001b[0;34m(filepath_or_buffer, sep, delimiter, header, names, index_col, usecols, dtype, engine, converters, true_values, false_values, skipinitialspace, skiprows, skipfooter, nrows, na_values, keep_default_na, na_filter, verbose, skip_blank_lines, parse_dates, infer_datetime_format, keep_date_col, date_parser, date_format, dayfirst, cache_dates, iterator, chunksize, compression, thousands, decimal, lineterminator, quotechar, quoting, doublequote, escapechar, comment, encoding, encoding_errors, dialect, on_bad_lines, delim_whitespace, low_memory, memory_map, float_precision, storage_options, dtype_backend)\u001b[0m\n\u001b[1;32m   1013\u001b[0m kwds_defaults \u001b[38;5;241m=\u001b[39m _refine_defaults_read(\n\u001b[1;32m   1014\u001b[0m     dialect,\n\u001b[1;32m   1015\u001b[0m     delimiter,\n\u001b[0;32m   (...)\u001b[0m\n\u001b[1;32m   1022\u001b[0m     dtype_backend\u001b[38;5;241m=\u001b[39mdtype_backend,\n\u001b[1;32m   1023\u001b[0m )\n\u001b[1;32m   1024\u001b[0m kwds\u001b[38;5;241m.\u001b[39mupdate(kwds_defaults)\n\u001b[0;32m-> 1026\u001b[0m \u001b[38;5;28;01mreturn\u001b[39;00m \u001b[43m_read\u001b[49m\u001b[43m(\u001b[49m\u001b[43mfilepath_or_buffer\u001b[49m\u001b[43m,\u001b[49m\u001b[43m \u001b[49m\u001b[43mkwds\u001b[49m\u001b[43m)\u001b[49m\n",
      "File \u001b[0;32m~/.pyenv/versions/.tf-metal/lib/python3.10/site-packages/pandas/io/parsers/readers.py:626\u001b[0m, in \u001b[0;36m_read\u001b[0;34m(filepath_or_buffer, kwds)\u001b[0m\n\u001b[1;32m    623\u001b[0m     \u001b[38;5;28;01mreturn\u001b[39;00m parser\n\u001b[1;32m    625\u001b[0m \u001b[38;5;28;01mwith\u001b[39;00m parser:\n\u001b[0;32m--> 626\u001b[0m     \u001b[38;5;28;01mreturn\u001b[39;00m \u001b[43mparser\u001b[49m\u001b[38;5;241;43m.\u001b[39;49m\u001b[43mread\u001b[49m\u001b[43m(\u001b[49m\u001b[43mnrows\u001b[49m\u001b[43m)\u001b[49m\n",
      "File \u001b[0;32m~/.pyenv/versions/.tf-metal/lib/python3.10/site-packages/pandas/io/parsers/readers.py:1923\u001b[0m, in \u001b[0;36mTextFileReader.read\u001b[0;34m(self, nrows)\u001b[0m\n\u001b[1;32m   1916\u001b[0m nrows \u001b[38;5;241m=\u001b[39m validate_integer(\u001b[38;5;124m\"\u001b[39m\u001b[38;5;124mnrows\u001b[39m\u001b[38;5;124m\"\u001b[39m, nrows)\n\u001b[1;32m   1917\u001b[0m \u001b[38;5;28;01mtry\u001b[39;00m:\n\u001b[1;32m   1918\u001b[0m     \u001b[38;5;66;03m# error: \"ParserBase\" has no attribute \"read\"\u001b[39;00m\n\u001b[1;32m   1919\u001b[0m     (\n\u001b[1;32m   1920\u001b[0m         index,\n\u001b[1;32m   1921\u001b[0m         columns,\n\u001b[1;32m   1922\u001b[0m         col_dict,\n\u001b[0;32m-> 1923\u001b[0m     ) \u001b[38;5;241m=\u001b[39m \u001b[38;5;28;43mself\u001b[39;49m\u001b[38;5;241;43m.\u001b[39;49m\u001b[43m_engine\u001b[49m\u001b[38;5;241;43m.\u001b[39;49m\u001b[43mread\u001b[49m\u001b[43m(\u001b[49m\u001b[43m  \u001b[49m\u001b[38;5;66;43;03m# type: ignore[attr-defined]\u001b[39;49;00m\n\u001b[1;32m   1924\u001b[0m \u001b[43m        \u001b[49m\u001b[43mnrows\u001b[49m\n\u001b[1;32m   1925\u001b[0m \u001b[43m    \u001b[49m\u001b[43m)\u001b[49m\n\u001b[1;32m   1926\u001b[0m \u001b[38;5;28;01mexcept\u001b[39;00m \u001b[38;5;167;01mException\u001b[39;00m:\n\u001b[1;32m   1927\u001b[0m     \u001b[38;5;28mself\u001b[39m\u001b[38;5;241m.\u001b[39mclose()\n",
      "File \u001b[0;32m~/.pyenv/versions/.tf-metal/lib/python3.10/site-packages/pandas/io/parsers/c_parser_wrapper.py:234\u001b[0m, in \u001b[0;36mCParserWrapper.read\u001b[0;34m(self, nrows)\u001b[0m\n\u001b[1;32m    232\u001b[0m \u001b[38;5;28;01mtry\u001b[39;00m:\n\u001b[1;32m    233\u001b[0m     \u001b[38;5;28;01mif\u001b[39;00m \u001b[38;5;28mself\u001b[39m\u001b[38;5;241m.\u001b[39mlow_memory:\n\u001b[0;32m--> 234\u001b[0m         chunks \u001b[38;5;241m=\u001b[39m \u001b[38;5;28;43mself\u001b[39;49m\u001b[38;5;241;43m.\u001b[39;49m\u001b[43m_reader\u001b[49m\u001b[38;5;241;43m.\u001b[39;49m\u001b[43mread_low_memory\u001b[49m\u001b[43m(\u001b[49m\u001b[43mnrows\u001b[49m\u001b[43m)\u001b[49m\n\u001b[1;32m    235\u001b[0m         \u001b[38;5;66;03m# destructive to chunks\u001b[39;00m\n\u001b[1;32m    236\u001b[0m         data \u001b[38;5;241m=\u001b[39m _concatenate_chunks(chunks)\n",
      "File \u001b[0;32mparsers.pyx:838\u001b[0m, in \u001b[0;36mpandas._libs.parsers.TextReader.read_low_memory\u001b[0;34m()\u001b[0m\n",
      "File \u001b[0;32mparsers.pyx:905\u001b[0m, in \u001b[0;36mpandas._libs.parsers.TextReader._read_rows\u001b[0;34m()\u001b[0m\n",
      "File \u001b[0;32mparsers.pyx:874\u001b[0m, in \u001b[0;36mpandas._libs.parsers.TextReader._tokenize_rows\u001b[0;34m()\u001b[0m\n",
      "File \u001b[0;32mparsers.pyx:891\u001b[0m, in \u001b[0;36mpandas._libs.parsers.TextReader._check_tokenize_status\u001b[0;34m()\u001b[0m\n",
      "File \u001b[0;32mparsers.pyx:2061\u001b[0m, in \u001b[0;36mpandas._libs.parsers.raise_parser_error\u001b[0;34m()\u001b[0m\n",
      "\u001b[0;31mParserError\u001b[0m: Error tokenizing data. C error: EOF inside string starting at row 5876"
     ]
    }
   ],
   "source": [
    "master = pd.read_csv('/Volumes/Extreme SSD/DL_DATASET/TestScores_CSF/UPENNBIOMK_MASTER_09Dec2024.csv')\n",
    "elecsys = pd.read_csv('/Volumes/Extreme SSD/DL_DATASET/TestScores_CSF/UPENNBIOMKADNIDIAN2017_09Dec2024.csv')\n",
    "\n",
    "# Align on participant ID and visit date\n",
    "combined = pd.merge(master, elecsys, on=['RID', 'VISDATE'], how='outer', suffixes=('_master', '_elecsys'))\n",
    "\n",
    "# Handle overlapping biomarkers\n",
    "for biomarker in ['Aβ1-42', 't-tau', 'p-tau']:\n",
    "    combined[biomarker] = combined[f\"{biomarker}_elecsys\"].combine_first(combined[f\"{biomarker}_master\"])\n",
    "\n",
    "combined['Platform'] = combined['Platform'].fillna('Master')  # Assume NaN as Master\n",
    "combat = Combat()\n",
    "harmonized_data = combat.fit_transform(combined[['Aβ1-42', 't-tau', 'p-tau']], combined['Platform'])\n",
    "\n",
    "# getting derived ratios\n",
    "combined['t-tau/Aβ1-42'] = combined['t-tau'] / combined['Aβ1-42']\n",
    "combined['p-tau/Aβ1-42'] = combined['p-tau'] / combined['Aβ1-42']"
   ]
  }
 ],
 "metadata": {
  "kernelspec": {
   "display_name": ".tf-metal",
   "language": "python",
   "name": "python3"
  },
  "language_info": {
   "codemirror_mode": {
    "name": "ipython",
    "version": 3
   },
   "file_extension": ".py",
   "mimetype": "text/x-python",
   "name": "python",
   "nbconvert_exporter": "python",
   "pygments_lexer": "ipython3",
   "version": "3.10.14"
  }
 },
 "nbformat": 4,
 "nbformat_minor": 2
}
